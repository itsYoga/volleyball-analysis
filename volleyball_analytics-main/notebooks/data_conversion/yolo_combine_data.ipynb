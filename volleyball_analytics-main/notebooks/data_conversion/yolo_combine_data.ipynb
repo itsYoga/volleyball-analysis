{
 "cells": [
  {
   "cell_type": "code",
   "execution_count": 15,
   "id": "7ee698dc-fdd4-4332-b5e6-2e887cbd1897",
   "metadata": {},
   "outputs": [],
   "source": [
    "import os\n",
    "import cv2\n",
    "from shutil import copy2\n",
    "from pathlib import Path\n",
    "from os.path import join\n",
    "from natsort import natsorted\n",
    "from tqdm.notebook import tqdm\n",
    "from glob import glob\n",
    "from random import shuffle, choice"
   ]
  },
  {
   "cell_type": "code",
   "execution_count": 9,
   "id": "6c580731-9288-4b5e-91b6-92059f100627",
   "metadata": {},
   "outputs": [
    {
     "name": "stdout",
     "output_type": "stream",
     "text": [
      "4480\n",
      "4480\n"
     ]
    }
   ],
   "source": [
    "path = 'data/raw/6_classes'\n",
    "images = list(Path(path).rglob('*.png'))\n",
    "labels = list(Path(path).rglob('*.txt'))\n",
    "\n",
    "images = natsorted(images, key=lambda x: x.stem)\n",
    "labels = natsorted(labels, key=lambda x: x.stem)\n",
    "\n",
    "print(len(images))\n",
    "print(len(labels))"
   ]
  },
  {
   "cell_type": "code",
   "execution_count": 11,
   "id": "754fe6c0-85d7-4a4e-9490-497e228834e3",
   "metadata": {},
   "outputs": [
    {
     "data": {
      "application/vnd.jupyter.widget-view+json": {
       "model_id": "4b6a2a1c142f44dda11637a254304fdf",
       "version_major": 2,
       "version_minor": 0
      },
      "text/plain": [
       "  0%|          | 0/4480 [00:00<?, ?it/s]"
      ]
     },
     "metadata": {},
     "output_type": "display_data"
    }
   ],
   "source": [
    "output_path = 'data/processed/6_classes_V2'\n",
    "pairs = list(zip(images, labels))\n",
    "shuffle(pairs)\n",
    "train_size = int(len(pairs) * 0.9)\n",
    "\n",
    "for index, (img, lbl) in enumerate(tqdm(pairs)):\n",
    "    img_dir = join(output_path, \"images\")\n",
    "    label_dir = join(output_path, 'labels')\n",
    "    \n",
    "    if index < train_size:\n",
    "        output_img_dir = join(img_dir, 'train')\n",
    "        output_label_dir = join(label_dir, 'train')\n",
    "    else:\n",
    "        output_img_dir = join(img_dir, 'val')\n",
    "        output_label_dir = join(label_dir, 'val')\n",
    "\n",
    "    os.makedirs(output_img_dir, exist_ok=True)\n",
    "    os.makedirs(output_label_dir, exist_ok=True)\n",
    "    \n",
    "    copy2(img.as_posix(), output_img_dir)\n",
    "    copy2(lbl.as_posix(), output_label_dir)\n",
    "    \n",
    "        \n"
   ]
  },
  {
   "cell_type": "code",
   "execution_count": 3,
   "id": "7f3255c8-ac0b-48e2-b959-0a13a5d4075e",
   "metadata": {},
   "outputs": [
    {
     "name": "stdout",
     "output_type": "stream",
     "text": [
      "4480\n"
     ]
    }
   ],
   "source": [
    "path = 'data/processed/6_classes_V2'\n",
    "all_txt_files = list(Path(path).rglob('*.txt'))\n",
    "print(len(all_txt_files))"
   ]
  },
  {
   "cell_type": "code",
   "execution_count": 35,
   "id": "a9da06b5-6346-4308-93d9-b4a1b28dd5cd",
   "metadata": {},
   "outputs": [
    {
     "name": "stdout",
     "output_type": "stream",
     "text": [
      "5 0.785156 0.538194 0.095312 0.409722\n",
      "0 0.794531 0.323611 0.018750 0.033333\n",
      "\n",
      "\n",
      "4 0.785156 0.538194 0.095312 0.409722\n",
      "0 0.794531 0.323611 0.018750 0.033333\n"
     ]
    }
   ],
   "source": [
    "t = choice(all_txt_files)\n",
    "lines = [i for i in open(t.as_posix()).read().split('\\n') if i != '']\n",
    "print(open(t.as_posix()).read())\n",
    "\n",
    "def replace_serve_with_spike(lines):\n",
    "    new_str = ''\n",
    "    for i, l in enumerate(lines):\n",
    "        cl, x_cen, y_cen, w, h = l.split(' ')\n",
    "        cl = int(cl)\n",
    "        if cl == 5:\n",
    "            output = f\"{4} {x_cen} {y_cen} {w} {h}\"\n",
    "        else:\n",
    "            output = l\n",
    "        new_str += output\n",
    "        if i != len(lines)-1:\n",
    "            new_str += '\\n'\n",
    "    return new_str\n",
    "\n",
    "print('')\n",
    "new_str = replace_serve_with_spike(lines)\n",
    "print(new_str)\n"
   ]
  },
  {
   "cell_type": "code",
   "execution_count": 36,
   "id": "09fd83a3-066e-4224-af36-5e07a135ff70",
   "metadata": {},
   "outputs": [
    {
     "data": {
      "application/vnd.jupyter.widget-view+json": {
       "model_id": "cee262d421404db7b6c64397c5ef60c3",
       "version_major": 2,
       "version_minor": 0
      },
      "text/plain": [
       "  0%|          | 0/4480 [00:00<?, ?it/s]"
      ]
     },
     "metadata": {},
     "output_type": "display_data"
    }
   ],
   "source": [
    "\n",
    "for item in tqdm(all_txt_files):\n",
    "    lines = [i for i in open(item.as_posix()).read().split('\\n') if i != '']\n",
    "    new_str = replace_serve_with_spike(lines)\n",
    "    with open(item.as_posix(), 'w') as file:\n",
    "        file.write(new_str)\n",
    "\n",
    "\n"
   ]
  },
  {
   "cell_type": "code",
   "execution_count": null,
   "id": "d33461d5-674f-4fe6-bbfa-1574a1d30e98",
   "metadata": {},
   "outputs": [],
   "source": []
  },
  {
   "cell_type": "code",
   "execution_count": null,
   "id": "a8595c2a-afce-4ac6-a0b7-e4721893c8e6",
   "metadata": {},
   "outputs": [],
   "source": []
  },
  {
   "cell_type": "code",
   "execution_count": null,
   "id": "bd3cf846-e8da-4b1b-a6af-f89541c9c208",
   "metadata": {},
   "outputs": [],
   "source": []
  }
 ],
 "metadata": {
  "kernelspec": {
   "display_name": "py-3.11",
   "language": "python",
   "name": "p"
  },
  "language_info": {
   "codemirror_mode": {
    "name": "ipython",
    "version": 3
   },
   "file_extension": ".py",
   "mimetype": "text/x-python",
   "name": "python",
   "nbconvert_exporter": "python",
   "pygments_lexer": "ipython3",
   "version": "3.11.5"
  }
 },
 "nbformat": 4,
 "nbformat_minor": 5
}
