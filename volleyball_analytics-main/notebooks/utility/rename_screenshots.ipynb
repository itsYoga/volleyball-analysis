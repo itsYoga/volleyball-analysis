{
 "cells": [
  {
   "cell_type": "code",
   "execution_count": 35,
   "id": "ad8f8e17-0d37-4d02-b974-05f29ffec853",
   "metadata": {},
   "outputs": [],
   "source": [
    "from pathlib import Path\n",
    "from os.path import isdir, isfile, join\n",
    "from os import makedirs\n",
    "from shutil import copy2\n",
    "import cv2\n",
    "from tqdm.notebook import tqdm\n",
    "import json"
   ]
  },
  {
   "cell_type": "code",
   "execution_count": 36,
   "id": "688ca369-9d36-4bc2-b090-8a00ad1e9a7c",
   "metadata": {},
   "outputs": [],
   "source": [
    "old_images = list(Path('ball/images/').glob('*.png'))\n",
    "js = json.load(open('ball/annotations.json'))"
   ]
  },
  {
   "cell_type": "code",
   "execution_count": 37,
   "id": "8f314e13-331a-4bd7-8452-e08bd3bd65f5",
   "metadata": {},
   "outputs": [],
   "source": [
    "del js['___sa_version___']"
   ]
  },
  {
   "cell_type": "code",
   "execution_count": 38,
   "id": "1cc7be66-7e7d-42a4-a9ad-f49a89f99f4d",
   "metadata": {},
   "outputs": [
    {
     "data": {
      "application/vnd.jupyter.widget-view+json": {
       "model_id": "810a51ec4aa84a72b9b6e798d6067f1e",
       "version_major": 2,
       "version_minor": 0
      },
      "text/plain": [
       "  0%|          | 0/730 [00:00<?, ?it/s]"
      ]
     },
     "metadata": {},
     "output_type": "display_data"
    }
   ],
   "source": [
    "save_path = 'new_ball'\n",
    "new_js = {}\n",
    "for i, img_path in enumerate(tqdm(old_images)):\n",
    "    # handle images\n",
    "    img = cv2.imread(img_path.as_posix())\n",
    "    new_name = 'img_%03d.png' % i\n",
    "    new_img_path = join(save_path, new_name)\n",
    "    # handle json\n",
    "    if img_path.name in js.keys():\n",
    "        img_annots = js[img_path.name]\n",
    "        new_js[new_name] = img_annots\n",
    "    cv2.imwrite(new_img_path, img)"
   ]
  },
  {
   "cell_type": "code",
   "execution_count": 40,
   "id": "f1230e3a-680e-4f3b-8662-18df2602583e",
   "metadata": {},
   "outputs": [],
   "source": [
    "json.dump(new_js, open('annotations.json', 'w'))"
   ]
  },
  {
   "cell_type": "code",
   "execution_count": null,
   "id": "fc716d83-d0c5-4643-b306-9d4ced62efc8",
   "metadata": {},
   "outputs": [],
   "source": []
  },
  {
   "cell_type": "code",
   "execution_count": null,
   "id": "bb222c1d-ca4b-4750-87d3-08159176234a",
   "metadata": {},
   "outputs": [],
   "source": []
  },
  {
   "cell_type": "code",
   "execution_count": null,
   "id": "23e47f27-e9b7-48f1-9c34-946832f967fc",
   "metadata": {},
   "outputs": [],
   "source": []
  }
 ],
 "metadata": {
  "kernelspec": {
   "display_name": "Python 3 (ipykernel)",
   "language": "python",
   "name": "python3"
  },
  "language_info": {
   "codemirror_mode": {
    "name": "ipython",
    "version": 3
   },
   "file_extension": ".py",
   "mimetype": "text/x-python",
   "name": "python",
   "nbconvert_exporter": "python",
   "pygments_lexer": "ipython3",
   "version": "3.11.5"
  }
 },
 "nbformat": 4,
 "nbformat_minor": 5
}
